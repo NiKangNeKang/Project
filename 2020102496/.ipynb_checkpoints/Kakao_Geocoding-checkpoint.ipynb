{
 "cells": [
  {
   "cell_type": "markdown",
   "id": "f1fbdadf",
   "metadata": {},
   "source": [
    "# Kakao API를 이용한 지오코딩(2023/12/24)\n",
    "<br> 기존의 프로젝트는 python 내의 geopy 라이브러리를 이용하여 지오코딩을 실시하였음. 그러나 대용량의 data를 처리함에 있어서 geopy는 처리 시간이 적지 않게 소요되었음. 이에 대한 또 다른 해결책으로 Kakao api를 이용하여 지오코딩을 할 수 있는 방법을 제시하고자 함.<br>아래의 코드는 위도와 경도가 누락된 csv 파일을 kakao api를 통해 위도와 경도 칼럼을 추가한 새로운 csv로 저장하는 코드임."
   ]
  },
  {
   "cell_type": "markdown",
   "id": "7e8f2e09",
   "metadata": {},
   "source": [
    "우선 Kakao api 키를 발급받고, 아래의 코드에서 headers의 안에 자신의 고유키를 삽입함.<br>( https://developers.kakao.com/ )"
   ]
  },
  {
   "cell_type": "code",
   "execution_count": 1,
   "id": "da1aac5b",
   "metadata": {},
   "outputs": [
    {
     "data": {
      "text/plain": [
       "['127.023530607859', '37.5761363837871']"
      ]
     },
     "execution_count": 1,
     "metadata": {},
     "output_type": "execute_result"
    }
   ],
   "source": [
    "import requests, json\n",
    "\n",
    "def Kakao_Geocoding(address):\n",
    "    url = 'https://dapi.kakao.com/v2/local/search/address.json?query=' + address\n",
    "    # 주소를 string으로 받아서 위경도 좌표를 list로 반환함.\n",
    "    # 'KaKaoAK ' 뒤에 개인키만 입력함.\n",
    "    # ex) KakaoAK 21ba322daf2d740f327e6b8316b81333\n",
    "    headers = {\"Authorization\": \"KakaoAK 21ba322daf2d740f327e6b8316b81857\"}\n",
    "    # try , except 문법을 추가하여 에러가 나더라도 프로그램이 진행될 수 있도록 설계함.\n",
    "    # 에러가 발생하면 [0,0]을 위경도로 설정함.\n",
    "    try:\n",
    "        api_json = json.loads(str(requests.get(url,headers=headers).text))\n",
    "        address = api_json['documents'][0]['address']\n",
    "        coordinate = [str(address['x']), str(address['y'])]\n",
    "        address_name = address['address_name']\n",
    "        return coordinate\n",
    "    \n",
    "    except:\n",
    "        return [0,0]\n",
    "    \n",
    "# kakaomap api를 이용하여 에러가 발생한 주소의 위경도 값을 추출함.\n",
    "Kakao_Geocoding('서울특별시 동대문구 보문로 6')"
   ]
  },
  {
   "cell_type": "markdown",
   "id": "4a0f2c60",
   "metadata": {},
   "source": [
    "'서울특별시 동대문구 보문로 6'를 입력 parameter로 주었을 때, 위경도 좌표값이 정상적으로 나오는 것을 확인함."
   ]
  },
  {
   "cell_type": "markdown",
   "id": "ad5be965",
   "metadata": {},
   "source": [
    "이제부터는 위경도 좌표값이 누락된 csv 파일을 열어서 지오코딩을 실시한 후, '위도', '경도' 칼럽을 추가해 새로운 csv로 저장하는 과정임."
   ]
  },
  {
   "cell_type": "markdown",
   "id": "eedc3d85",
   "metadata": {},
   "source": [
    "pandas를 import한 후에<br>\n",
    "지오코딩을 실시하고자 하는 csv 파일명을 pd.read_csv의 input parameter로 설정함."
   ]
  },
  {
   "cell_type": "code",
   "execution_count": 2,
   "id": "2d272974",
   "metadata": {},
   "outputs": [
    {
     "data": {
      "text/html": [
       "<div>\n",
       "<style scoped>\n",
       "    .dataframe tbody tr th:only-of-type {\n",
       "        vertical-align: middle;\n",
       "    }\n",
       "\n",
       "    .dataframe tbody tr th {\n",
       "        vertical-align: top;\n",
       "    }\n",
       "\n",
       "    .dataframe thead th {\n",
       "        text-align: right;\n",
       "    }\n",
       "</style>\n",
       "<table border=\"1\" class=\"dataframe\">\n",
       "  <thead>\n",
       "    <tr style=\"text-align: right;\">\n",
       "      <th></th>\n",
       "      <th>행정구역명</th>\n",
       "      <th>학원/교습소</th>\n",
       "      <th>학원명</th>\n",
       "      <th>도로명주소</th>\n",
       "      <th>도로명상세주소</th>\n",
       "      <th>분야명</th>\n",
       "      <th>정원합계</th>\n",
       "    </tr>\n",
       "  </thead>\n",
       "  <tbody>\n",
       "    <tr>\n",
       "      <th>0</th>\n",
       "      <td>동대문구</td>\n",
       "      <td>학원</td>\n",
       "      <td>한국이용학원</td>\n",
       "      <td>서울특별시 동대문구 왕산로33길 32</td>\n",
       "      <td>, 2층  (제기동)</td>\n",
       "      <td>직업기술</td>\n",
       "      <td>52</td>\n",
       "    </tr>\n",
       "    <tr>\n",
       "      <th>1</th>\n",
       "      <td>동대문구</td>\n",
       "      <td>학원</td>\n",
       "      <td>대성회계실무학원</td>\n",
       "      <td>서울특별시 동대문구 왕산로 225</td>\n",
       "      <td>, 5층2호?5층6호?5층7호 중 일부(B호) (청량리동, 미주상가)</td>\n",
       "      <td>종합(대)</td>\n",
       "      <td>404</td>\n",
       "    </tr>\n",
       "    <tr>\n",
       "      <th>2</th>\n",
       "      <td>동대문구</td>\n",
       "      <td>학원</td>\n",
       "      <td>국제전자과학학원</td>\n",
       "      <td>서울특별시 동대문구 고산자로36길 3</td>\n",
       "      <td>, 3층 일부 (제기동, 경동시장)</td>\n",
       "      <td>직업기술</td>\n",
       "      <td>30</td>\n",
       "    </tr>\n",
       "    <tr>\n",
       "      <th>3</th>\n",
       "      <td>동대문구</td>\n",
       "      <td>학원</td>\n",
       "      <td>조이앤플레이음악학원</td>\n",
       "      <td>서울특별시 동대문구 이문로 38</td>\n",
       "      <td>, 3층 301호 (휘경동, 민족통일빌딩)</td>\n",
       "      <td>예능(대)</td>\n",
       "      <td>98</td>\n",
       "    </tr>\n",
       "    <tr>\n",
       "      <th>4</th>\n",
       "      <td>동대문구</td>\n",
       "      <td>학원</td>\n",
       "      <td>한독자동차정비학원</td>\n",
       "      <td>서울특별시 동대문구 왕산로 31</td>\n",
       "      <td>, 2층,3층 (신설동)</td>\n",
       "      <td>직업기술</td>\n",
       "      <td>210</td>\n",
       "    </tr>\n",
       "    <tr>\n",
       "      <th>...</th>\n",
       "      <td>...</td>\n",
       "      <td>...</td>\n",
       "      <td>...</td>\n",
       "      <td>...</td>\n",
       "      <td>...</td>\n",
       "      <td>...</td>\n",
       "      <td>...</td>\n",
       "    </tr>\n",
       "    <tr>\n",
       "      <th>124</th>\n",
       "      <td>동대문구</td>\n",
       "      <td>교습소</td>\n",
       "      <td>프라하피아노교습소</td>\n",
       "      <td>서울특별시 동대문구 고산자로30길 70</td>\n",
       "      <td>1층일부 (용두동)</td>\n",
       "      <td>예능(대)</td>\n",
       "      <td>20</td>\n",
       "    </tr>\n",
       "    <tr>\n",
       "      <th>125</th>\n",
       "      <td>동대문구</td>\n",
       "      <td>교습소</td>\n",
       "      <td>e해법수학교습소</td>\n",
       "      <td>서울특별시 동대문구 서울시립대로 31</td>\n",
       "      <td>동아아파트 102동 207호 (전농동)</td>\n",
       "      <td>입시.검정 및 보습</td>\n",
       "      <td>21</td>\n",
       "    </tr>\n",
       "    <tr>\n",
       "      <th>126</th>\n",
       "      <td>동대문구</td>\n",
       "      <td>교습소</td>\n",
       "      <td>쥴리어드음악교습소</td>\n",
       "      <td>서울특별시 동대문구 답십리로23나길 17</td>\n",
       "      <td>, 1층일부 (전농동)</td>\n",
       "      <td>예능(대)</td>\n",
       "      <td>25</td>\n",
       "    </tr>\n",
       "    <tr>\n",
       "      <th>127</th>\n",
       "      <td>동대문구</td>\n",
       "      <td>교습소</td>\n",
       "      <td>청솔해법영어교습소</td>\n",
       "      <td>서울특별시 동대문구 전농로10길 20</td>\n",
       "      <td>, 201호, 202호 (답십리동,답십리청솔우성아파트상가)</td>\n",
       "      <td>입시.검정 및 보습</td>\n",
       "      <td>40</td>\n",
       "    </tr>\n",
       "    <tr>\n",
       "      <th>128</th>\n",
       "      <td>동대문구</td>\n",
       "      <td>학원</td>\n",
       "      <td>현진학원</td>\n",
       "      <td>서울특별시 동대문구 사가정로 80</td>\n",
       "      <td>, 4층 413~415호 (답십리동)</td>\n",
       "      <td>입시.검정 및 보습</td>\n",
       "      <td>200</td>\n",
       "    </tr>\n",
       "  </tbody>\n",
       "</table>\n",
       "<p>129 rows × 7 columns</p>\n",
       "</div>"
      ],
      "text/plain": [
       "    행정구역명 학원/교습소         학원명                   도로명주소  \\\n",
       "0    동대문구     학원      한국이용학원    서울특별시 동대문구 왕산로33길 32   \n",
       "1    동대문구     학원    대성회계실무학원      서울특별시 동대문구 왕산로 225   \n",
       "2    동대문구     학원    국제전자과학학원    서울특별시 동대문구 고산자로36길 3   \n",
       "3    동대문구     학원  조이앤플레이음악학원       서울특별시 동대문구 이문로 38   \n",
       "4    동대문구     학원   한독자동차정비학원       서울특별시 동대문구 왕산로 31   \n",
       "..    ...    ...         ...                     ...   \n",
       "124  동대문구    교습소   프라하피아노교습소   서울특별시 동대문구 고산자로30길 70   \n",
       "125  동대문구    교습소    e해법수학교습소    서울특별시 동대문구 서울시립대로 31   \n",
       "126  동대문구    교습소   쥴리어드음악교습소  서울특별시 동대문구 답십리로23나길 17   \n",
       "127  동대문구    교습소   청솔해법영어교습소    서울특별시 동대문구 전농로10길 20   \n",
       "128  동대문구     학원        현진학원      서울특별시 동대문구 사가정로 80   \n",
       "\n",
       "                                    도로명상세주소         분야명  정원합계  \n",
       "0                               , 2층  (제기동)        직업기술    52  \n",
       "1    , 5층2호?5층6호?5층7호 중 일부(B호) (청량리동, 미주상가)       종합(대)   404  \n",
       "2                       , 3층 일부 (제기동, 경동시장)        직업기술    30  \n",
       "3                   , 3층 301호 (휘경동, 민족통일빌딩)       예능(대)    98  \n",
       "4                             , 2층,3층 (신설동)        직업기술   210  \n",
       "..                                      ...         ...   ...  \n",
       "124                              1층일부 (용두동)       예능(대)    20  \n",
       "125                   동아아파트 102동 207호 (전농동)  입시.검정 및 보습    21  \n",
       "126                            , 1층일부 (전농동)       예능(대)    25  \n",
       "127        , 201호, 202호 (답십리동,답십리청솔우성아파트상가)  입시.검정 및 보습    40  \n",
       "128                    , 4층 413~415호 (답십리동)  입시.검정 및 보습   200  \n",
       "\n",
       "[129 rows x 7 columns]"
      ]
     },
     "execution_count": 2,
     "metadata": {},
     "output_type": "execute_result"
    }
   ],
   "source": [
    "import pandas as pd\n",
    "# 변수명 = pd.read_csv('파일명.csv', encoding='cp949') / # test_raw는 임시로 설정한 변수임. \n",
    "# encoding은 보통 'utf8' or 'cp949'로 설정하면 정상적으로 인식할 수 있음. \n",
    "test_raw = pd.read_csv('.\\\\data\\\\testdata_beforeCoding.csv', encoding='cp949')\n",
    "test_raw"
   ]
  },
  {
   "cell_type": "markdown",
   "id": "c403e595",
   "metadata": {},
   "source": [
    "현재 test_raw의 데이터에는 도로명주소만 있을 뿐, 위도와 경도 값이 없는 것을 확인할 수 있음."
   ]
  },
  {
   "cell_type": "markdown",
   "id": "87a23a69",
   "metadata": {},
   "source": [
    "다음으로 test_raw에서 칼럼 '도로명주소'의 값들을 추출함. 지오코딩의 input parameter로 넣기 위한 데이터 추출과정임."
   ]
  },
  {
   "cell_type": "code",
   "execution_count": 12,
   "id": "9d51b654",
   "metadata": {},
   "outputs": [
    {
     "name": "stdout",
     "output_type": "stream",
     "text": [
      "Requirement already satisfied: tqdm in c:\\users\\xxoex\\anaconda3\\lib\\site-packages (4.65.0)\n",
      "Requirement already satisfied: colorama in c:\\users\\xxoex\\anaconda3\\lib\\site-packages (from tqdm) (0.4.6)\n"
     ]
    }
   ],
   "source": [
    "# 대용량 데이터를 지오코딩 할 때 약간의 시간이 소요됨.\n",
    "# 지오코딩이 어느정도 진행되었는지 시각적으로 표현할 수 있는 library임.\n",
    "!pip install tqdm"
   ]
  },
  {
   "cell_type": "code",
   "execution_count": 11,
   "id": "7d2fb25e",
   "metadata": {},
   "outputs": [
    {
     "name": "stderr",
     "output_type": "stream",
     "text": [
      "100%|████████████████████████████████████████████████████████████████████████████████| 129/129 [00:20<00:00,  6.29it/s]\n"
     ]
    }
   ],
   "source": [
    "# codingList = test_raw['도로명주소'] csv 파일에서 도로명주소 또는 구 주소를 담고 있는 칼럼명을 적어줌.\n",
    "# test_raw에서는 '도로명주소'라는 칼럼이 주소를 가지고 있음.\n",
    "CodingList = test_raw['도로명주소']\n",
    "\n",
    "# 도로명주소를 기반으로 지오코딩 실시\n",
    "# lat은 각 record의 위도를 element로 가지는 list\n",
    "# long은 각 record의 경도를 element로 가지는 list\n",
    "\n",
    "lat = []\n",
    "long = []\n",
    "from tqdm import tqdm\n",
    "for k in tqdm(CodingList):\n",
    "    long.append(Kakao_Geocoding(k)[0])\n",
    "    lat.append(Kakao_Geocoding(k)[1])"
   ]
  },
  {
   "cell_type": "markdown",
   "id": "82f26d3e",
   "metadata": {},
   "source": [
    "이렇게 추출한 리스트 lat, long 과 기존의 데이터에서 사용하고자 하는 칼럼으로 새로운 dataframe를 생성함."
   ]
  },
  {
   "cell_type": "code",
   "execution_count": 13,
   "id": "5ca5b3bb",
   "metadata": {},
   "outputs": [
    {
     "data": {
      "text/html": [
       "<div>\n",
       "<style scoped>\n",
       "    .dataframe tbody tr th:only-of-type {\n",
       "        vertical-align: middle;\n",
       "    }\n",
       "\n",
       "    .dataframe tbody tr th {\n",
       "        vertical-align: top;\n",
       "    }\n",
       "\n",
       "    .dataframe thead th {\n",
       "        text-align: right;\n",
       "    }\n",
       "</style>\n",
       "<table border=\"1\" class=\"dataframe\">\n",
       "  <thead>\n",
       "    <tr style=\"text-align: right;\">\n",
       "      <th></th>\n",
       "      <th>행정구역</th>\n",
       "      <th>학원이름</th>\n",
       "      <th>주소</th>\n",
       "      <th>상세주소</th>\n",
       "      <th>위도</th>\n",
       "      <th>경도</th>\n",
       "      <th>분야명</th>\n",
       "    </tr>\n",
       "  </thead>\n",
       "  <tbody>\n",
       "    <tr>\n",
       "      <th>0</th>\n",
       "      <td>동대문구</td>\n",
       "      <td>한국이용학원</td>\n",
       "      <td>서울특별시 동대문구 왕산로33길 32</td>\n",
       "      <td>, 2층  (제기동)</td>\n",
       "      <td>37.5807438360293</td>\n",
       "      <td>127.041917061106</td>\n",
       "      <td>직업기술</td>\n",
       "    </tr>\n",
       "    <tr>\n",
       "      <th>1</th>\n",
       "      <td>동대문구</td>\n",
       "      <td>대성회계실무학원</td>\n",
       "      <td>서울특별시 동대문구 왕산로 225</td>\n",
       "      <td>, 5층2호?5층6호?5층7호 중 일부(B호) (청량리동, 미주상가)</td>\n",
       "      <td>37.5821227010138</td>\n",
       "      <td>127.047209103701</td>\n",
       "      <td>종합(대)</td>\n",
       "    </tr>\n",
       "    <tr>\n",
       "      <th>2</th>\n",
       "      <td>동대문구</td>\n",
       "      <td>국제전자과학학원</td>\n",
       "      <td>서울특별시 동대문구 고산자로36길 3</td>\n",
       "      <td>, 3층 일부 (제기동, 경동시장)</td>\n",
       "      <td>37.5790377655561</td>\n",
       "      <td>127.039142935818</td>\n",
       "      <td>직업기술</td>\n",
       "    </tr>\n",
       "    <tr>\n",
       "      <th>3</th>\n",
       "      <td>동대문구</td>\n",
       "      <td>조이앤플레이음악학원</td>\n",
       "      <td>서울특별시 동대문구 이문로 38</td>\n",
       "      <td>, 3층 301호 (휘경동, 민족통일빌딩)</td>\n",
       "      <td>37.590757612557</td>\n",
       "      <td>127.056680204054</td>\n",
       "      <td>예능(대)</td>\n",
       "    </tr>\n",
       "    <tr>\n",
       "      <th>4</th>\n",
       "      <td>동대문구</td>\n",
       "      <td>한독자동차정비학원</td>\n",
       "      <td>서울특별시 동대문구 왕산로 31</td>\n",
       "      <td>, 2층,3층 (신설동)</td>\n",
       "      <td>37.5769771989632</td>\n",
       "      <td>127.026873164406</td>\n",
       "      <td>직업기술</td>\n",
       "    </tr>\n",
       "    <tr>\n",
       "      <th>...</th>\n",
       "      <td>...</td>\n",
       "      <td>...</td>\n",
       "      <td>...</td>\n",
       "      <td>...</td>\n",
       "      <td>...</td>\n",
       "      <td>...</td>\n",
       "      <td>...</td>\n",
       "    </tr>\n",
       "    <tr>\n",
       "      <th>124</th>\n",
       "      <td>동대문구</td>\n",
       "      <td>프라하피아노교습소</td>\n",
       "      <td>서울특별시 동대문구 고산자로30길 70</td>\n",
       "      <td>1층일부 (용두동)</td>\n",
       "      <td>37.575230527702</td>\n",
       "      <td>127.042015853524</td>\n",
       "      <td>예능(대)</td>\n",
       "    </tr>\n",
       "    <tr>\n",
       "      <th>125</th>\n",
       "      <td>동대문구</td>\n",
       "      <td>e해법수학교습소</td>\n",
       "      <td>서울특별시 동대문구 서울시립대로 31</td>\n",
       "      <td>동아아파트 102동 207호 (전농동)</td>\n",
       "      <td>37.5753105451014</td>\n",
       "      <td>127.045864474612</td>\n",
       "      <td>입시.검정 및 보습</td>\n",
       "    </tr>\n",
       "    <tr>\n",
       "      <th>126</th>\n",
       "      <td>동대문구</td>\n",
       "      <td>쥴리어드음악교습소</td>\n",
       "      <td>서울특별시 동대문구 답십리로23나길 17</td>\n",
       "      <td>, 1층일부 (전농동)</td>\n",
       "      <td>37.5800228229668</td>\n",
       "      <td>127.052792227116</td>\n",
       "      <td>예능(대)</td>\n",
       "    </tr>\n",
       "    <tr>\n",
       "      <th>127</th>\n",
       "      <td>동대문구</td>\n",
       "      <td>청솔해법영어교습소</td>\n",
       "      <td>서울특별시 동대문구 전농로10길 20</td>\n",
       "      <td>, 201호, 202호 (답십리동,답십리청솔우성아파트상가)</td>\n",
       "      <td>37.5746094744702</td>\n",
       "      <td>127.060129124176</td>\n",
       "      <td>입시.검정 및 보습</td>\n",
       "    </tr>\n",
       "    <tr>\n",
       "      <th>128</th>\n",
       "      <td>동대문구</td>\n",
       "      <td>현진학원</td>\n",
       "      <td>서울특별시 동대문구 사가정로 80</td>\n",
       "      <td>, 4층 413~415호 (답십리동)</td>\n",
       "      <td>37.5752237850342</td>\n",
       "      <td>127.054926569574</td>\n",
       "      <td>입시.검정 및 보습</td>\n",
       "    </tr>\n",
       "  </tbody>\n",
       "</table>\n",
       "<p>129 rows × 7 columns</p>\n",
       "</div>"
      ],
      "text/plain": [
       "     행정구역        학원이름                      주소  \\\n",
       "0    동대문구      한국이용학원    서울특별시 동대문구 왕산로33길 32   \n",
       "1    동대문구    대성회계실무학원      서울특별시 동대문구 왕산로 225   \n",
       "2    동대문구    국제전자과학학원    서울특별시 동대문구 고산자로36길 3   \n",
       "3    동대문구  조이앤플레이음악학원       서울특별시 동대문구 이문로 38   \n",
       "4    동대문구   한독자동차정비학원       서울특별시 동대문구 왕산로 31   \n",
       "..    ...         ...                     ...   \n",
       "124  동대문구   프라하피아노교습소   서울특별시 동대문구 고산자로30길 70   \n",
       "125  동대문구    e해법수학교습소    서울특별시 동대문구 서울시립대로 31   \n",
       "126  동대문구   쥴리어드음악교습소  서울특별시 동대문구 답십리로23나길 17   \n",
       "127  동대문구   청솔해법영어교습소    서울특별시 동대문구 전농로10길 20   \n",
       "128  동대문구        현진학원      서울특별시 동대문구 사가정로 80   \n",
       "\n",
       "                                       상세주소                위도  \\\n",
       "0                               , 2층  (제기동)  37.5807438360293   \n",
       "1    , 5층2호?5층6호?5층7호 중 일부(B호) (청량리동, 미주상가)  37.5821227010138   \n",
       "2                       , 3층 일부 (제기동, 경동시장)  37.5790377655561   \n",
       "3                   , 3층 301호 (휘경동, 민족통일빌딩)   37.590757612557   \n",
       "4                             , 2층,3층 (신설동)  37.5769771989632   \n",
       "..                                      ...               ...   \n",
       "124                              1층일부 (용두동)   37.575230527702   \n",
       "125                   동아아파트 102동 207호 (전농동)  37.5753105451014   \n",
       "126                            , 1층일부 (전농동)  37.5800228229668   \n",
       "127        , 201호, 202호 (답십리동,답십리청솔우성아파트상가)  37.5746094744702   \n",
       "128                    , 4층 413~415호 (답십리동)  37.5752237850342   \n",
       "\n",
       "                   경도         분야명  \n",
       "0    127.041917061106        직업기술  \n",
       "1    127.047209103701       종합(대)  \n",
       "2    127.039142935818        직업기술  \n",
       "3    127.056680204054       예능(대)  \n",
       "4    127.026873164406        직업기술  \n",
       "..                ...         ...  \n",
       "124  127.042015853524       예능(대)  \n",
       "125  127.045864474612  입시.검정 및 보습  \n",
       "126  127.052792227116       예능(대)  \n",
       "127  127.060129124176  입시.검정 및 보습  \n",
       "128  127.054926569574  입시.검정 및 보습  \n",
       "\n",
       "[129 rows x 7 columns]"
      ]
     },
     "execution_count": 13,
     "metadata": {},
     "output_type": "execute_result"
    }
   ],
   "source": [
    "Final_data = pd.DataFrame({'행정구역': test_raw['행정구역명'],\n",
    "                                      '학원이름' : test_raw['학원명'],\n",
    "                                      '주소':CodingList,\n",
    "                                      '상세주소':test_raw['도로명상세주소'],\n",
    "                                      '위도':lat,'경도':long,'분야명':test_raw['분야명']})\n",
    "Final_data"
   ]
  },
  {
   "cell_type": "markdown",
   "id": "cf6e457f",
   "metadata": {},
   "source": [
    "'위도', '경도' 칼럼이 추가된 것을 확인할 수 있음."
   ]
  },
  {
   "cell_type": "markdown",
   "id": "b7f215fc",
   "metadata": {},
   "source": [
    "Kakao_Geocoding에서 try, except을 사용하였기 때문에, 오류가 발생하여 위도와 경도가 0인 객체가 있는지 살펴봄."
   ]
  },
  {
   "cell_type": "code",
   "execution_count": 14,
   "id": "dd557908",
   "metadata": {},
   "outputs": [
    {
     "data": {
      "text/html": [
       "<div>\n",
       "<style scoped>\n",
       "    .dataframe tbody tr th:only-of-type {\n",
       "        vertical-align: middle;\n",
       "    }\n",
       "\n",
       "    .dataframe tbody tr th {\n",
       "        vertical-align: top;\n",
       "    }\n",
       "\n",
       "    .dataframe thead th {\n",
       "        text-align: right;\n",
       "    }\n",
       "</style>\n",
       "<table border=\"1\" class=\"dataframe\">\n",
       "  <thead>\n",
       "    <tr style=\"text-align: right;\">\n",
       "      <th></th>\n",
       "      <th>행정구역</th>\n",
       "      <th>학원이름</th>\n",
       "      <th>주소</th>\n",
       "      <th>상세주소</th>\n",
       "      <th>위도</th>\n",
       "      <th>경도</th>\n",
       "      <th>분야명</th>\n",
       "    </tr>\n",
       "  </thead>\n",
       "  <tbody>\n",
       "  </tbody>\n",
       "</table>\n",
       "</div>"
      ],
      "text/plain": [
       "Empty DataFrame\n",
       "Columns: [행정구역, 학원이름, 주소, 상세주소, 위도, 경도, 분야명]\n",
       "Index: []"
      ]
     },
     "execution_count": 14,
     "metadata": {},
     "output_type": "execute_result"
    }
   ],
   "source": [
    "Final_data[Final_data['위도']==0]"
   ]
  },
  {
   "cell_type": "code",
   "execution_count": 15,
   "id": "84a8af78",
   "metadata": {
    "scrolled": true
   },
   "outputs": [
    {
     "data": {
      "text/html": [
       "<div>\n",
       "<style scoped>\n",
       "    .dataframe tbody tr th:only-of-type {\n",
       "        vertical-align: middle;\n",
       "    }\n",
       "\n",
       "    .dataframe tbody tr th {\n",
       "        vertical-align: top;\n",
       "    }\n",
       "\n",
       "    .dataframe thead th {\n",
       "        text-align: right;\n",
       "    }\n",
       "</style>\n",
       "<table border=\"1\" class=\"dataframe\">\n",
       "  <thead>\n",
       "    <tr style=\"text-align: right;\">\n",
       "      <th></th>\n",
       "      <th>행정구역</th>\n",
       "      <th>학원이름</th>\n",
       "      <th>주소</th>\n",
       "      <th>상세주소</th>\n",
       "      <th>위도</th>\n",
       "      <th>경도</th>\n",
       "      <th>분야명</th>\n",
       "    </tr>\n",
       "  </thead>\n",
       "  <tbody>\n",
       "  </tbody>\n",
       "</table>\n",
       "</div>"
      ],
      "text/plain": [
       "Empty DataFrame\n",
       "Columns: [행정구역, 학원이름, 주소, 상세주소, 위도, 경도, 분야명]\n",
       "Index: []"
      ]
     },
     "execution_count": 15,
     "metadata": {},
     "output_type": "execute_result"
    }
   ],
   "source": [
    "Final_data[Final_data['경도']==0]"
   ]
  },
  {
   "cell_type": "markdown",
   "id": "faf01a07",
   "metadata": {},
   "source": [
    "위도와 경도가 0인 객체가 없다면 지오코딩이 정상적으로 실행된 것이므로 csv 파일로 저장함."
   ]
  },
  {
   "cell_type": "code",
   "execution_count": 16,
   "id": "5069fb52",
   "metadata": {},
   "outputs": [],
   "source": [
    "Final_data.to_csv('.\\\\data\\\\testdata_afterCoding.csv')"
   ]
  }
 ],
 "metadata": {
  "kernelspec": {
   "display_name": "Python 3 (ipykernel)",
   "language": "python",
   "name": "python3"
  },
  "language_info": {
   "codemirror_mode": {
    "name": "ipython",
    "version": 3
   },
   "file_extension": ".py",
   "mimetype": "text/x-python",
   "name": "python",
   "nbconvert_exporter": "python",
   "pygments_lexer": "ipython3",
   "version": "3.11.4"
  }
 },
 "nbformat": 4,
 "nbformat_minor": 5
}
